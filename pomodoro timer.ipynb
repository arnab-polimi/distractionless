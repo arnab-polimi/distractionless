{
 "cells": [
  {
   "cell_type": "code",
   "execution_count": 1,
   "id": "40428018",
   "metadata": {},
   "outputs": [],
   "source": [
    "import time as t\n",
    "from tkinter import *\n",
    "import tkinter.messagebox\n",
    "sessions = 0\n",
    "breaks = 0\n",
    "   "
   ]
  },
  {
   "cell_type": "code",
   "execution_count": 2,
   "id": "9c615967",
   "metadata": {},
   "outputs": [],
   "source": [
    "import winsound"
   ]
  },
  {
   "cell_type": "code",
   "execution_count": 4,
   "id": "a8e944b7",
   "metadata": {},
   "outputs": [
    {
     "name": "stdout",
     "output_type": "stream",
     "text": [
      "How many minutes for this session \n",
      "25\n",
      "pomodoro started 25 mins \n",
      "\n",
      "Time left in session is:24mins \n",
      "\n",
      "Time left in session is:23mins \n",
      "\n",
      "Time left in session is:22mins \n",
      "\n",
      "Time left in session is:21mins \n",
      "\n",
      "Time left in session is:20mins \n",
      "\n",
      "Time left in session is:19mins \n",
      "\n",
      "Time left in session is:18mins \n",
      "\n",
      "Time left in session is:17mins \n",
      "\n",
      "Time left in session is:16mins \n",
      "\n",
      "Time left in session is:15mins \n",
      "\n",
      "Time left in session is:14mins \n",
      "\n",
      "Time left in session is:13mins \n",
      "\n",
      "Time left in session is:12mins \n",
      "\n",
      "Time left in session is:11mins \n",
      "\n",
      "Time left in session is:10mins \n",
      "\n",
      "Time left in session is:9mins \n",
      "\n",
      "Time left in session is:8mins \n",
      "\n",
      "Time left in session is:7mins \n",
      "\n",
      "Time left in session is:6mins \n",
      "\n",
      "Time left in session is:5mins \n",
      "\n",
      "Time left in session is:4mins \n",
      "\n",
      "Time left in session is:3mins \n",
      "\n",
      "Time left in session is:2mins \n",
      "\n",
      "Time left in session is:1mins \n",
      "\n",
      "Time left in session is:0mins \n",
      "\n",
      "You have completed 2 sessions today \n",
      "\n"
     ]
    }
   ],
   "source": [
    "flag1 = True\n",
    "flag2 = True\n",
    "mins = int(input('How many minutes for this session \\n'))\n",
    "print(f'pomodoro started {mins} mins \\n')\n",
    "\n",
    "while(flag1):\n",
    "    while(flag2):\n",
    "        t.sleep(60)\n",
    "        flag2 = False\n",
    "        mins = mins-1\n",
    "        print('Time left in session is:'+str(mins)+'mins \\n')\n",
    "    if mins == 0:\n",
    "        flag1 = False\n",
    "        root=Tk()\n",
    "        tkinter.messagebox.showinfo('POMODORO','Time completed, enjoy a 5 mins break! \\n')\n",
    "        root.mainloop()\n",
    "        sessions+=1\n",
    "        \n",
    "    flag2 = True\n",
    "print(f'You have completed {sessions} sessions today \\n')\n",
    "winsound.Beep(400, 1000)\n",
    "\n",
    "    \n",
    "    \n"
   ]
  },
  {
   "cell_type": "code",
   "execution_count": 43,
   "id": "1d76ada2",
   "metadata": {},
   "outputs": [],
   "source": []
  },
  {
   "cell_type": "code",
   "execution_count": 6,
   "id": "bff0e34c",
   "metadata": {},
   "outputs": [
    {
     "name": "stdout",
     "output_type": "stream",
     "text": [
      "How many minutes for this break session \n",
      "5\n",
      "break started 5 mins \n",
      "\n",
      "Time left in session is:4mins \n",
      "\n",
      "Time left in session is:3mins \n",
      "\n",
      "Time left in session is:2mins \n",
      "\n",
      "Time left in session is:1mins \n",
      "\n",
      "Time left in session is:0mins \n",
      "\n",
      "You have completed 2 breaks today \n",
      "\n"
     ]
    }
   ],
   "source": [
    "\n",
    "flag1 = True\n",
    "flag2 = True\n",
    "breakMins = int(input('How many minutes for this break session \\n'))\n",
    "print(f'break started {breakMins} mins \\n')\n",
    "\n",
    "while(flag1):\n",
    "    while(flag2):\n",
    "        t.sleep(60)\n",
    "        flag2 = False\n",
    "        breakMins = breakMins-1\n",
    "        print('Time left in session is:'+str(breakMins)+'mins \\n')\n",
    "    if breakMins == 0:\n",
    "        flag1 = False\n",
    "        root=Tk()\n",
    "        tkinter.messagebox.showinfo('Break','Time completed, Back to HUSTLE! \\n')\n",
    "        root.mainloop()\n",
    "        breaks+=1\n",
    "        \n",
    "    flag2 = True\n",
    "print(f'You have completed {breaks} breaks today \\n')\n",
    "winsound.Beep(400, 1000)\n",
    "\n",
    "    "
   ]
  },
  {
   "cell_type": "code",
   "execution_count": null,
   "id": "8550f819",
   "metadata": {},
   "outputs": [],
   "source": []
  }
 ],
 "metadata": {
  "kernelspec": {
   "display_name": "Python 3",
   "language": "python",
   "name": "python3"
  },
  "language_info": {
   "codemirror_mode": {
    "name": "ipython",
    "version": 3
   },
   "file_extension": ".py",
   "mimetype": "text/x-python",
   "name": "python",
   "nbconvert_exporter": "python",
   "pygments_lexer": "ipython3",
   "version": "3.8.8"
  }
 },
 "nbformat": 4,
 "nbformat_minor": 5
}
